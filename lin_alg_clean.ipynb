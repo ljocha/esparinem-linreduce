{
 "cells": [
  {
   "cell_type": "code",
   "execution_count": null,
   "metadata": {},
   "outputs": [],
   "source": [
    "import numpy as np\n",
    "import seaborn as sn\n",
    "import matplotlib.pyplot as plt\n",
    "import pdfo\n",
    "import scipy.optimize as opt"
   ]
  },
  {
   "cell_type": "code",
   "execution_count": null,
   "metadata": {},
   "outputs": [],
   "source": [
    "data = np.load(\"data/dataset/sel_voxels_from_4_ds.npy\")\n",
    "print(data.shape)"
   ]
  },
  {
   "cell_type": "code",
   "execution_count": null,
   "metadata": {},
   "outputs": [],
   "source": [
    "cov_m = np.cov(data.T)\n",
    "\n",
    "sn.heatmap(cov_m)\n",
    "plt.show()"
   ]
  },
  {
   "cell_type": "code",
   "execution_count": null,
   "metadata": {},
   "outputs": [],
   "source": [
    "print(np.min(cov_m))"
   ]
  },
  {
   "cell_type": "code",
   "execution_count": null,
   "metadata": {},
   "outputs": [],
   "source": [
    "e_val, e_vec = np.linalg.eig(cov_m)"
   ]
  },
  {
   "cell_type": "code",
   "execution_count": null,
   "metadata": {},
   "outputs": [],
   "source": [
    "plt.plot(e_val, marker='o')\n",
    "plt.yscale(\"log\")\n",
    "plt.show()\n",
    "plt.yscale(\"log\")\n",
    "plt.plot(e_val[:10], marker='o')\n",
    "plt.show()"
   ]
  },
  {
   "cell_type": "code",
   "execution_count": null,
   "metadata": {},
   "outputs": [],
   "source": [
    "cen = np.array([np.average(x) for x in data.T])\n",
    "\n",
    "ti_seq = np.array([*list(range(50, 400, 25)),\n",
    "          *list(range(400, 1000, 10)),\n",
    "          1000, 1030, 1050, 1080, 1100, 1130, 1150, 1180, 1200, 1230, 1250, 1280, 1300, 1330, 1350, 1380,\n",
    "          1400, 1450, 1500, 1550, 1600, 1650, 1700,\n",
    "          1800, 1900, 2000, 2100, 2200, 2300, 2500, 3000])\n",
    "\n",
    "plt.figure(figsize=(15, 10))\n",
    "for i in range(6):\n",
    "    plt.plot(ti_seq, e_vec[:,i], label=\"{}\".format(i))\n",
    "plt.legend()\n",
    "plt.show()"
   ]
  },
  {
   "cell_type": "code",
   "execution_count": null,
   "metadata": {},
   "outputs": [],
   "source": [
    "plt.plot(ti_seq, cen)\n",
    "plt.show()"
   ]
  },
  {
   "cell_type": "code",
   "execution_count": null,
   "metadata": {},
   "outputs": [],
   "source": [
    "test_data = data[79]\n",
    "decentr = test_data - cen\n",
    "\n",
    "vec_count = 7\n",
    "coefs = []\n",
    "for i in range(105):\n",
    "    l = np.linalg.norm(e_vec[:,i])\n",
    "    coefs.append(sum(decentr * e_vec[:,i]) / (l ** 2))\n",
    "\n",
    "rec = np.copy(cen)\n",
    "for i in range(vec_count):\n",
    "    rec += coefs[i] * e_vec[:,i]\n",
    "\n",
    "s = np.copy(cen)\n",
    "for i in range(6):\n",
    "    s += coefs[i] * e_vec[:,i]\n",
    "\n",
    "plt.plot(ti_seq, test_data, label=\"data\")\n",
    "plt.plot(ti_seq, rec, label=\"7\")\n",
    "plt.plot(ti_seq, s, label=\"6\")\n",
    "plt.legend()\n",
    "plt.show()"
   ]
  },
  {
   "cell_type": "code",
   "execution_count": null,
   "metadata": {},
   "outputs": [],
   "source": [
    "def model(TI,T1,M0=1.):\n",
    "    return M0*np.abs(1.-2.*np.exp(-TI/T1))\n",
    "\n",
    "def modcurve(T1,M0=1.):\n",
    "    return model(ti_seq,T1,M0)\n",
    "\n",
    "def curvecoord(curve,base):\n",
    "    coord = np.dot(base.T,curve)\n",
    "    bnorm = np.linalg.norm(base,axis=0)\n",
    "    coord /= bnorm**2\n",
    "    return coord\n",
    "\n",
    "def curveproj(curve,base):\n",
    "    coord = curvecoord(curve,base)\n",
    "    proj = np.sum(base * coord,axis=1) \n",
    "    return coord,proj\n",
    "\n",
    "def curveres(curve,base):\n",
    "    _,proj = curveproj(curve,base)\n",
    "    return np.linalg.norm(curve-proj)"
   ]
  },
  {
   "cell_type": "code",
   "execution_count": null,
   "metadata": {},
   "outputs": [],
   "source": [
    "# kolik rozmeru podprostoru nas zajima\n",
    "\n",
    "components = 7\n",
    "base = e_vec[:,:components]"
   ]
  },
  {
   "cell_type": "code",
   "execution_count": null,
   "metadata": {},
   "outputs": [],
   "source": [
    "# Pro kazde T1 z Trange a nekolik zafixovanych hodnot M0 generujeme krivky\n",
    "# kazda se posune do stredu, udela jeji projekce do vybraneho pdprostoru,\n",
    "# zmeri se vzdalenost krivky od projekce\n",
    "\n",
    "T1range = range(400,1800,5)\n",
    "M0range = [100,200,300,500,800,1000]\n",
    "\n",
    "plt.figure(figsize=(12,8))\n",
    "for M0 in M0range:\n",
    "    res = []\n",
    "    for T1 in T1range:\n",
    "        t1curve=modcurve(T1,M0)\n",
    "        t1cen = t1curve - cen\n",
    "        res.append(curveres(t1cen,base))\n",
    "    \n",
    "    plt.plot(T1range,res,label=str(M0))\n",
    "    \n",
    "plt.legend()\n",
    "plt.show()"
   ]
  },
  {
   "cell_type": "code",
   "execution_count": null,
   "metadata": {},
   "outputs": [],
   "source": [
    "# T1start = np.array([660,716,800,950,1180,1620])\n",
    "T1start = np.array([580,650,710,810,1000,1250,1580])\n",
    "\n",
    "models = []\n",
    "#for t1 in range(500,1900,200):\n",
    "for t1 in T1start:\n",
    "    models.append(modcurve(t1,1200))\n",
    "    \n",
    "models = np.array(models).T\n",
    "avgm = np.average(models,axis=1)\n",
    "\n",
    "plt.plot(ti_seq,avgm)\n",
    "plt.show()"
   ]
  },
  {
   "cell_type": "code",
   "execution_count": null,
   "metadata": {},
   "outputs": [],
   "source": [
    "# Alternativne M0 spocitane tak, ze se stred nekolika krivek posune (hledanim spravneho M0) \n",
    "# co nejbliz stredu dat\n",
    "\n",
    "M0 = 1200 * curvecoord(cen,avgm)\n",
    "print(M0)\n",
    "\n",
    "plt.figure(figsize=(12,8))\n",
    "plt.plot(T1range, list(map(lambda T1: curveres(modcurve(T1,M0),base),T1range)))\n",
    "plt.show()"
   ]
  },
  {
   "cell_type": "code",
   "execution_count": null,
   "metadata": {},
   "outputs": [],
   "source": [
    "# A nejdivoceji ... pro kazde T1 optimalizujeme zvlast M0 tak, aby vzdalenost od poprostoru\n",
    "# byla co nejmensi\n",
    "\n",
    "plt.figure(figsize=(12,8))\n",
    "\n",
    "T1range = list(range(400,3000,10))\n",
    "\n",
    "mins = [\n",
    "    opt.brent(lambda M0: curveres(modcurve(T1,M0)-cen,base),brack=(0,1000))\n",
    "    for T1 in T1range\n",
    "]\n",
    "\n",
    "plt.plot(T1range,list(map(lambda TM: curveres(modcurve(*TM)-cen,base),zip(T1range,mins))),label='mindist')\n",
    "plt.plot(T1range,np.array(mins) / 5,label='M0 / 5')\n",
    "plt.legend()\n",
    "plt.show()"
   ]
  },
  {
   "cell_type": "code",
   "execution_count": null,
   "metadata": {},
   "outputs": [],
   "source": []
  }
 ],
 "metadata": {
  "kernelspec": {
   "display_name": "Python 3",
   "language": "python",
   "name": "python3"
  },
  "language_info": {
   "codemirror_mode": {
    "name": "ipython",
    "version": 3
   },
   "file_extension": ".py",
   "mimetype": "text/x-python",
   "name": "python",
   "nbconvert_exporter": "python",
   "pygments_lexer": "ipython3",
   "version": "3.7.3"
  }
 },
 "nbformat": 4,
 "nbformat_minor": 2
}
