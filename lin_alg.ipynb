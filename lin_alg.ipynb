{
 "cells": [
  {
   "cell_type": "code",
   "execution_count": null,
   "metadata": {},
   "outputs": [],
   "source": [
    "import numpy as np\n",
    "import seaborn as sn\n",
    "import matplotlib.pyplot as plt\n",
    "import pdfo"
   ]
  },
  {
   "cell_type": "code",
   "execution_count": null,
   "metadata": {
    "pycharm": {
     "name": "#%%\n"
    }
   },
   "outputs": [],
   "source": [
    "data = np.load(\"data/dataset/sel_voxels_from_4_ds.npy\")\n",
    "print(data.shape)"
   ]
  },
  {
   "cell_type": "code",
   "execution_count": null,
   "metadata": {
    "pycharm": {
     "name": "#%%\n"
    }
   },
   "outputs": [],
   "source": [
    "cov_m = np.cov(data.T)\n",
    "\n",
    "sn.heatmap(cov_m)\n",
    "plt.show()"
   ]
  },
  {
   "cell_type": "code",
   "execution_count": null,
   "metadata": {
    "pycharm": {
     "name": "#%%\n"
    }
   },
   "outputs": [],
   "source": [
    "print(np.min(cov_m))"
   ]
  },
  {
   "cell_type": "code",
   "execution_count": null,
   "metadata": {
    "pycharm": {
     "name": "#%%\n"
    }
   },
   "outputs": [],
   "source": [
    "e_val, e_vec = np.linalg.eig(cov_m)"
   ]
  },
  {
   "cell_type": "code",
   "execution_count": null,
   "metadata": {
    "pycharm": {
     "name": "#%%\n"
    }
   },
   "outputs": [],
   "source": [
    "plt.plot(e_val, marker='o')\n",
    "plt.yscale(\"log\")\n",
    "plt.show()\n",
    "plt.yscale(\"log\")\n",
    "plt.plot(e_val[:10], marker='o')\n",
    "plt.show()"
   ]
  },
  {
   "cell_type": "code",
   "execution_count": null,
   "metadata": {
    "pycharm": {
     "name": "#%%\n"
    }
   },
   "outputs": [],
   "source": [
    "cen = np.array([np.average(x) for x in data.T])\n",
    "\n",
    "ti_seq = np.array([*list(range(50, 400, 25)),\n",
    "          *list(range(400, 1000, 10)),\n",
    "          1000, 1030, 1050, 1080, 1100, 1130, 1150, 1180, 1200, 1230, 1250, 1280, 1300, 1330, 1350, 1380,\n",
    "          1400, 1450, 1500, 1550, 1600, 1650, 1700,\n",
    "          1800, 1900, 2000, 2100, 2200, 2300, 2500, 3000])\n",
    "\n",
    "plt.figure(figsize=(15, 10))\n",
    "for i in range(6):\n",
    "    plt.plot(ti_seq, e_vec[:,i], label=\"{}\".format(i))\n",
    "plt.legend()\n",
    "plt.show()"
   ]
  },
  {
   "cell_type": "markdown",
   "metadata": {
    "pycharm": {
     "name": "#%% md\n"
    }
   },
   "source": [
    "Centroid"
   ]
  },
  {
   "cell_type": "code",
   "execution_count": null,
   "metadata": {
    "pycharm": {
     "name": "#%%\n"
    }
   },
   "outputs": [],
   "source": [
    "plt.plot(ti_seq, cen)\n",
    "plt.show()"
   ]
  },
  {
   "cell_type": "code",
   "execution_count": null,
   "metadata": {
    "pycharm": {
     "name": "#%%\n"
    }
   },
   "outputs": [],
   "source": [
    "test_data = data[79]\n",
    "decentr = test_data - cen\n",
    "\n",
    "vec_count = 7\n",
    "coefs = []\n",
    "for i in range(105):\n",
    "    l = np.linalg.norm(e_vec[:,i])\n",
    "    coefs.append(sum(decentr * e_vec[:,i]) / (l ** 2))\n",
    "\n",
    "rec = np.copy(cen)\n",
    "for i in range(vec_count):\n",
    "    rec += coefs[i] * e_vec[:,i]\n",
    "\n",
    "s = np.copy(cen)\n",
    "for i in range(6):\n",
    "    s += coefs[i] * e_vec[:,i]\n",
    "\n",
    "plt.plot(ti_seq, test_data, label=\"data\")\n",
    "plt.plot(ti_seq, rec, label=\"7\")\n",
    "plt.plot(ti_seq, s, label=\"6\")\n",
    "plt.legend()\n",
    "plt.show()"
   ]
  },
  {
   "cell_type": "code",
   "execution_count": null,
   "metadata": {
    "pycharm": {
     "name": "#%%\n"
    }
   },
   "outputs": [],
   "source": [
    "rec = np.copy(cen)\n",
    "for i in range(6):\n",
    "    rec += coefs[i] * e_vec[:,i]\n",
    "\n",
    "plt.plot(ti_seq, test_data, label=\"data\")\n",
    "plt.plot(ti_seq, rec, label=\"trans\")\n",
    "plt.legend()\n",
    "plt.show()"
   ]
  },
  {
   "cell_type": "code",
   "execution_count": null,
   "metadata": {
    "pycharm": {
     "name": "#%%\n"
    }
   },
   "outputs": [],
   "source": [
    "plt.plot(coefs)\n",
    "plt.title(\"Coefs\")\n",
    "plt.show()\n"
   ]
  },
  {
   "cell_type": "code",
   "execution_count": null,
   "metadata": {},
   "outputs": [],
   "source": [
    "def model(TI,T1,M0=1.):\n",
    "    return M0*np.abs(1.-2.*np.exp(-TI/T1))\n",
    "\n",
    "def modcurve(T1,M0=1.):\n",
    "    return model(ti_seq,T1,M0)\n",
    "\n",
    "def curvecoord(curve,base):\n",
    "    coord = np.dot(base.T,curve)\n",
    "    bnorm = np.linalg.norm(base,axis=0)\n",
    "    coord /= bnorm**2\n",
    "    return coord\n",
    "\n",
    "def curveproj(curve,base):\n",
    "    coord = curvecoord(curve,base)\n",
    "    proj = np.sum(base * coord,axis=1) \n",
    "    return proj\n",
    "\n"
   ]
  },
  {
   "cell_type": "code",
   "execution_count": null,
   "metadata": {},
   "outputs": [],
   "source": [
    "plt.plot(ti_seq,modcurve(1000,1200))\n",
    "plt.plot(ti_seq,data[44])"
   ]
  },
  {
   "cell_type": "code",
   "execution_count": null,
   "metadata": {},
   "outputs": [],
   "source": [
    "# mozna 7 ale 6 vypada lip\n",
    "base = e_vec[:,:6]"
   ]
  },
  {
   "cell_type": "code",
   "execution_count": null,
   "metadata": {},
   "outputs": [],
   "source": [
    "\n",
    "T1range = range(400,1800,5)\n",
    "M1range = [100,200,300,500]\n",
    "\n",
    "plt.figure(figsize=(12,8))\n",
    "for M1 in M1range:\n",
    "    res = []\n",
    "    for T1 in T1range:\n",
    "        t1curve=modcurve(T1,M1)\n",
    "        t1cen = t1curve - cen\n",
    "        t1proj = curveproj(t1cen,base)\n",
    "        t1res = t1proj - t1cen\n",
    "        res.append(np.linalg.norm(t1res))\n",
    "    \n",
    "    plt.plot(T1range,res,label=str(M1))\n",
    "    \n",
    "plt.legend()\n",
    "plt.show()\n",
    "    "
   ]
  },
  {
   "cell_type": "code",
   "execution_count": null,
   "metadata": {},
   "outputs": [],
   "source": [
    "def goodbase(M0T1s,obase,cntr,opt=True):\n",
    "    b = []\n",
    "    c = []\n",
    "    l = len(M0T1s) // 2\n",
    "    M0s = M0T1s[:l]\n",
    "    T1s = M0T1s[l:]\n",
    "    for i in range(l):\n",
    "        t1curve=modcurve(T1s[i],M0s[i])\n",
    "        t1cen = t1curve - cntr\n",
    "        c.append(t1cen)\n",
    "        t1proj = curveproj(t1cen,obase)\n",
    "        b.append(t1proj)\n",
    "        \n",
    "    t1curves = np.array(c).T\n",
    "    t1base = np.array(b).T\n",
    "    \n",
    "    t1res = np.linalg.norm(t1base - t1curves) / l\n",
    "    t1cond = np.linalg.cond(t1base)\n",
    "    \n",
    "#    return t1res,t1cond\n",
    "    if opt:\n",
    "        return t1res + 0.01 * t1cond\n",
    "    \n",
    "    return t1res,t1cond,t1base,t1curves,t1res + 0.01 * t1cond"
   ]
  },
  {
   "cell_type": "code",
   "execution_count": null,
   "metadata": {},
   "outputs": [],
   "source": [
    "T1start = np.array([660,716,800,950,1180,1620])\n",
    "M0start = np.array([1000] * len(T1start))"
   ]
  },
  {
   "cell_type": "code",
   "execution_count": null,
   "metadata": {},
   "outputs": [],
   "source": [
    "res = []\n",
    "for i in range(100):\n",
    "    Tshift = np.random.standard_normal(size=len(T1start)) * 0.05\n",
    "    T1_0 = T1start * (1.+Tshift)\n",
    "    Mshift = np.random.uniform(size=len(M0start))+.2\n",
    "    M0_0 = M0start * Mshift\n",
    "    r = pdfo.newuoa(goodbase,np.concatenate((M0_0,T1_0)),args=(base,cen))\n",
    "    if r.success:\n",
    "        print(i,T1_0,'OK')\n",
    "        res.append(r)\n",
    "    else:\n",
    "        print (i, T1_0, r.message)\n",
    "    \n"
   ]
  },
  {
   "cell_type": "code",
   "execution_count": null,
   "metadata": {},
   "outputs": [],
   "source": [
    "res[0]"
   ]
  },
  {
   "cell_type": "code",
   "execution_count": null,
   "metadata": {},
   "outputs": [],
   "source": [
    "for r in sorted(res,key=lambda x: x.fun)[:10]:\n",
    "#for r in res[:10]:\n",
    "    rm = r.x[:len(M0start)]\n",
    "    rx = np.sort(r.x[len(M0start):])\n",
    "    print(r.fun,rm,rx)\n",
    "    rmsd,cond,_,_,f = goodbase(r.x,base,cen,opt=False)\n",
    "    print(f,rmsd,cond)"
   ]
  },
  {
   "cell_type": "code",
   "execution_count": null,
   "metadata": {},
   "outputs": [],
   "source": [
    "bestT1 = sorted(res,key=lambda x: x.fun)[0].x\n",
    "_,_,bestbase,_,_ = goodbase(bestT1,base,cen,opt=False)\n",
    "\n",
    "plt.figure(figsize=(12,8))\n",
    "for i,b in enumerate(bestbase.T):\n",
    "    plt.plot(ti_seq,b + cen,label=str(i))\n",
    "\n",
    "plt.legend()\n",
    "plt.show()"
   ]
  },
  {
   "cell_type": "code",
   "execution_count": null,
   "metadata": {},
   "outputs": [],
   "source": [
    "curvecoord(bestbase[:,5],e_vec[:,:10])"
   ]
  },
  {
   "cell_type": "code",
   "execution_count": null,
   "metadata": {},
   "outputs": [],
   "source": [
    "bestbase = bestbase / np.linalg.norm(bestbase,axis=0)"
   ]
  },
  {
   "cell_type": "code",
   "execution_count": null,
   "metadata": {},
   "outputs": [],
   "source": [
    "e_vec[:,0]"
   ]
  },
  {
   "cell_type": "code",
   "execution_count": null,
   "metadata": {},
   "outputs": [],
   "source": [
    "bestbase=e_vec[:,:6]\n",
    "\n",
    "plt.figure(figsize=(12,8))\n",
    "\n",
    "#for idx in [14,815,2218,17324]:\n",
    "for idx in [2218]:\n",
    "    coord = curvecoord(data[idx]-cen,bestbase)\n",
    "    print(idx,coord)\n",
    "    plt.plot(ti_seq,data[idx],marker='.',color='k',ls='')\n",
    "    plt.plot(ti_seq,(bestbase @ coord) + cen, label=str(idx))\n",
    "    \n",
    "plt.legend()\n",
    "plt.show()"
   ]
  },
  {
   "cell_type": "code",
   "execution_count": null,
   "metadata": {},
   "outputs": [],
   "source": [
    "curvecoord(data[idx]-cen,bestbase[:,0])"
   ]
  },
  {
   "cell_type": "code",
   "execution_count": null,
   "metadata": {},
   "outputs": [],
   "source": [
    "np.dot(bestbase[:,0],bestbase[:,5])/np.linalg.norm(bestbase[:,0])/np.linalg.norm(bestbase[:,5])"
   ]
  },
  {
   "cell_type": "code",
   "execution_count": null,
   "metadata": {},
   "outputs": [],
   "source": [
    "curvecoord(bestbase[:,0],base)"
   ]
  },
  {
   "cell_type": "code",
   "execution_count": null,
   "metadata": {},
   "outputs": [],
   "source": [
    "data[2218]-cen"
   ]
  },
  {
   "cell_type": "code",
   "execution_count": null,
   "metadata": {},
   "outputs": [],
   "source": [
    "np.dot(data[2218]-cen,bestbase[:,0])/(np.linalg.norm(bestbase[:,0])**2)"
   ]
  },
  {
   "cell_type": "code",
   "execution_count": null,
   "metadata": {},
   "outputs": [],
   "source": []
  },
  {
   "cell_type": "code",
   "execution_count": null,
   "metadata": {},
   "outputs": [],
   "source": [
    "for t in [\n",
    "    [660,716,800,950,1180,1620],\n",
    "    [600,716,800,950,1180,1620],\n",
    "    [500,716,800,950,1180,1620],\n",
    "    [660,716,800,950,1000,1620],\n",
    "    [660,716,800,950,950,1620]\n",
    "]:\n",
    "    print (goodbase(t,base,cen))"
   ]
  },
  {
   "cell_type": "code",
   "execution_count": null,
   "metadata": {},
   "outputs": [],
   "source": [
    "data[0]"
   ]
  },
  {
   "cell_type": "code",
   "execution_count": null,
   "metadata": {},
   "outputs": [],
   "source": [
    "bnorm"
   ]
  },
  {
   "cell_type": "code",
   "execution_count": null,
   "metadata": {},
   "outputs": [],
   "source": [
    "m = np.array([[1,0],[2,0]])\n",
    "m"
   ]
  },
  {
   "cell_type": "code",
   "execution_count": null,
   "metadata": {},
   "outputs": [],
   "source": [
    "np.linalg.cond(m)"
   ]
  },
  {
   "cell_type": "code",
   "execution_count": null,
   "metadata": {},
   "outputs": [],
   "source": [
    "m=np.array([np.array([1,2]), np.array([3,4])])\n",
    "m"
   ]
  },
  {
   "cell_type": "markdown",
   "metadata": {
    "pycharm": {
     "name": "#%% md\n"
    }
   },
   "source": [
    "Vraciame sa spat do voxelov, kde hladame suradnice nameraneho signalu v baze a ich chyby."
   ]
  },
  {
   "cell_type": "code",
   "execution_count": null,
   "metadata": {
    "pycharm": {
     "name": "#%%\n"
    }
   },
   "outputs": [],
   "source": [
    "import nibabel as nib\n",
    "# 3813A, 3816A, 3432B or 3832A\n",
    "dataset_name = \"3813A\"\n",
    "file_name = \"data/dataset/\" + dataset_name + \"_ep2d_se_til_shlomi_50-3000.nii\"\n",
    "nib_data = nib.load(file_name)\n",
    "img_data = nib_data.get_fdata()\n",
    "print(img_data.shape)"
   ]
  },
  {
   "cell_type": "code",
   "execution_count": null,
   "metadata": {
    "pycharm": {
     "name": "#%%\n"
    }
   },
   "outputs": [],
   "source": [
    "def find_signal_coefs(decentr, base):\n",
    "    coefs = []\n",
    "    for i in range(len(base)):\n",
    "        l = np.linalg.norm(base[i])\n",
    "        coefs.append(sum(decentr * base[i]) / (l ** 2))\n",
    "\n",
    "    return coefs\n",
    "\n",
    "def reconstruct_from_base(centroid, base, coefs, n):\n",
    "    rec = np.copy(centroid)\n",
    "    for i in range(n):\n",
    "        rec += coefs[i] * base[i]\n",
    "\n",
    "    return rec\n",
    "\n",
    "def mse(x, y):\n",
    "    return np.square(np.subtract(x,y)).mean()"
   ]
  },
  {
   "cell_type": "code",
   "execution_count": null,
   "metadata": {
    "pycharm": {
     "name": "#%%\n"
    }
   },
   "outputs": [],
   "source": [
    "base = np.copy(e_vec).T\n",
    "\n",
    "test_data = data[79]\n",
    "coefs = find_signal_coefs(test_data - cen, base)\n",
    "rec = reconstruct_from_base(cen, base, coefs, 6)"
   ]
  },
  {
   "cell_type": "code",
   "execution_count": null,
   "metadata": {
    "pycharm": {
     "name": "#%%\n"
    }
   },
   "outputs": [],
   "source": [
    "if True:\n",
    "    all_coefs = np.load(\"data/dataset/coefs_in_base.npy\")\n",
    "    errors = np.load(\"data/dataset/errors.npy\")\n",
    "else:\n",
    "\n",
    "    z_len, y_len, x_len, _ = img_data.shape\n",
    "\n",
    "    for z in range(z_len):\n",
    "        for y in range(y_len):\n",
    "            for x in range(x_len):\n",
    "                test_data = img_data[z][y][x]\n",
    "                c = find_signal_coefs(test_data - cen, base)\n",
    "                rec = reconstruct_from_base(cen, base, c, 6)\n",
    "                errors[z][y][x] = mse(test_data, rec)\n",
    "\n",
    "                all_coefs[z][y][x] = c\n",
    "        print(f\"{z} iteration finished\")\n",
    "\n",
    "    np.save(\"data/dataset/coefs_in_base\", all_coefs)\n",
    "    np.save(\"data/dataset/errors\", errors)"
   ]
  },
  {
   "cell_type": "code",
   "execution_count": null,
   "metadata": {
    "pycharm": {
     "name": "#%%\n"
    }
   },
   "outputs": [],
   "source": [
    "t_errors = np.transpose(errors.copy(), (2, 0, 1))\n",
    "# norm e\n",
    "# t_errors = (t_errors - np.min(t_errors)) / (np.max(t_errors) - np.min(t_errors))\n",
    "print(t_errors.shape)\n",
    "t_coefs = np.transpose(all_coefs.copy(), (3, 2, 0, 1))"
   ]
  },
  {
   "cell_type": "code",
   "execution_count": null,
   "metadata": {
    "pycharm": {
     "name": "#%%\n"
    }
   },
   "outputs": [],
   "source": [
    "for slice in []: #t_errors:\n",
    "    plt.imshow(slice.astype(int))\n",
    "    plt.colorbar()\n",
    "    plt.title(\"Errors\")\n",
    "    plt.show()"
   ]
  },
  {
   "cell_type": "code",
   "execution_count": null,
   "metadata": {
    "pycharm": {
     "name": "#%%\n"
    }
   },
   "outputs": [],
   "source": [
    "print(t_coefs.shape)\n",
    "for i in range(10, 30):\n",
    "    plt.imshow(t_coefs[1][i].astype(int))\n",
    "    plt.colorbar()\n",
    "    plt.title(\"Errors\")\n",
    "    plt.show()\n",
    "\n",
    "\n"
   ]
  }
 ],
 "metadata": {
  "kernelspec": {
   "display_name": "Python 3",
   "language": "python",
   "name": "python3"
  },
  "language_info": {
   "codemirror_mode": {
    "name": "ipython",
    "version": 3
   },
   "file_extension": ".py",
   "mimetype": "text/x-python",
   "name": "python",
   "nbconvert_exporter": "python",
   "pygments_lexer": "ipython3",
   "version": "3.7.3"
  }
 },
 "nbformat": 4,
 "nbformat_minor": 1
}
